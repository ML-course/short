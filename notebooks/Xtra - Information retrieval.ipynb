{
 "cells": [
  {
   "cell_type": "markdown",
   "metadata": {
    "slideshow": {
     "slide_type": "slide"
    }
   },
   "source": [
    "# Information retrieval\n",
    "\n",
    "<img src=\"../images/se_www.gif\" alt=\"ml\" style=\"width: 600px;\"/>"
   ]
  },
  {
   "cell_type": "code",
   "execution_count": 1,
   "metadata": {
    "hide_input": false,
    "slideshow": {
     "slide_type": "skip"
    }
   },
   "outputs": [
    {
     "data": {
      "text/html": [
       "<style>html, body{overflow-y: visible !important} .CodeMirror{min-width:105% !important;} .rise-enabled .CodeMirror, .rise-enabled .output_subarea{font-size:140%; line-height:1.2; overflow: visible;} .output_subarea pre{width:110%}</style>"
      ],
      "text/plain": [
       "<IPython.core.display.HTML object>"
      ]
     },
     "execution_count": 1,
     "metadata": {},
     "output_type": "execute_result"
    }
   ],
   "source": [
    "# Global imports and settings\n",
    "from preamble import *\n",
    "%matplotlib inline\n",
    "plt.rcParams['figure.dpi'] = 120 # Use 300 for PDF, 100 for slides\n",
    "# InteractiveShell.ast_node_interactivity = \"all\"\n",
    "HTML('''<style>html, body{overflow-y: visible !important} .CodeMirror{min-width:105% !important;} .rise-enabled .CodeMirror, .rise-enabled .output_subarea{font-size:140%; line-height:1.2; overflow: visible;} .output_subarea pre{width:110%}</style>''') # For slides"
   ]
  },
  {
   "cell_type": "code",
   "execution_count": 2,
   "metadata": {
    "slideshow": {
     "slide_type": "skip"
    }
   },
   "outputs": [
    {
     "data": {
      "application/javascript": [
       "IPython.OutputArea.prototype._should_scroll = function(lines) {\n",
       "    return false;\n",
       "}"
      ],
      "text/plain": [
       "<IPython.core.display.Javascript object>"
      ]
     },
     "metadata": {},
     "output_type": "display_data"
    }
   ],
   "source": [
    "%%javascript\n",
    "IPython.OutputArea.prototype._should_scroll = function(lines) {\n",
    "    return false;\n",
    "}"
   ]
  },
  {
   "cell_type": "markdown",
   "metadata": {
    "slideshow": {
     "slide_type": "slide"
    }
   },
   "source": [
    "### Overview\n",
    "<img src=\"../images/se_overview.png\" alt=\"ml\" style=\"width: 1000px;\"/>"
   ]
  },
  {
   "cell_type": "markdown",
   "metadata": {
    "slideshow": {
     "slide_type": "subslide"
    }
   },
   "source": [
    "## Text Aquisition\n",
    "* (Web) Crawlers\n",
    "    * Follow any type of _link_ of _index_ to find documents\n",
    "        * On the web, in documents, file systems,...\n",
    "    * Coverage: must _efficiently_ find many web pages\n",
    "    * Freshness: documents must be kept up-to-date\n",
    "    * Topical or focused crawlers for vertical search (topic, domain, pagerank,…)\n",
    "* Feeds (push vs. pull)\n",
    "    * Real-time streams of documents (news, blogs,... )\n",
    "    * Really Simple Syndication (RSS) standard\n",
    "        * Fresh links in XML document"
   ]
  },
  {
   "cell_type": "markdown",
   "metadata": {
    "slideshow": {
     "slide_type": "subslide"
    }
   },
   "source": [
    "### Web Crawlers\n",
    "* Finds and downloads web pages automatically\n",
    "* Have to adapt continuously to evolving web\n",
    "    * Web pages become increasingly complex\n",
    "        * Javascript, media, reactive design,...\n",
    "    * Adversarial environment\n",
    "        * Unfair search engine 'optimization'"
   ]
  },
  {
   "cell_type": "markdown",
   "metadata": {
    "slideshow": {
     "slide_type": "subslide"
    }
   },
   "source": [
    "### Web crawlers: taxonomy\n",
    "* Different crawlers have to adhere to different requirements\n",
    "<img src=\"../images/se_crawler_types.png\" alt=\"ml\" style=\"width: 600px;\"/>"
   ]
  },
  {
   "cell_type": "markdown",
   "metadata": {
    "slideshow": {
     "slide_type": "subslide"
    }
   },
   "source": [
    "#### Internet archive  (www.archive.org)\n",
    "<img src=\"../images/se_internet_archive.png\" alt=\"ml\" style=\"width: 1000px;\"/>"
   ]
  },
  {
   "cell_type": "markdown",
   "metadata": {
    "slideshow": {
     "slide_type": "slide"
    }
   },
   "source": [
    "### Web Crawlers: Criteria\n",
    "<img src=\"../images/se_crawler_criteria.png\" alt=\"ml\" style=\"width: 600px;\"/>"
   ]
  },
  {
   "cell_type": "markdown",
   "metadata": {
    "slideshow": {
     "slide_type": "subslide"
    }
   },
   "source": [
    "### Web Crawlers: Architecture\n",
    "* __Long-term scheduler__: Maintains queue of URLs to visit\n",
    "* __Downloader__: Fetches new websites in parallel\n",
    "    * Short-term queue to fulfill politeness constraints\n",
    "* __Storage__: Extracts text, urls, metadata from website\n",
    "<img src=\"../images/se_crawler_architecture.png\" alt=\"ml\" style=\"width: 600px;\"/>"
   ]
  },
  {
   "cell_type": "markdown",
   "metadata": {
    "slideshow": {
     "slide_type": "subslide"
    }
   },
   "source": [
    "### Web Crawlers: Basic considerations\n",
    "* HTTP requests take time\n",
    "    * Fetch 100s of webpages in parallel\n",
    "* Websites will block crawler if too aggressive\n",
    "    * Politeness policies: don't hit same server to often\n",
    "    * Short-term rescheduling to adhere to policies\n",
    "* Distribute work over many machines\n",
    "* Efficiency complications:\n",
    "    * Remember which servers are slow for better scheduling\n",
    "    * Site mirrors: don't index duplicate pages\n",
    "* Adversarial websites:\n",
    "    * Link farms to unfairly boost page ranking\n",
    "    * Spider traps: generate infinite fake pages"
   ]
  },
  {
   "cell_type": "markdown",
   "metadata": {
    "slideshow": {
     "slide_type": "subslide"
    }
   },
   "source": [
    "### URL frontier: what to index next?\n",
    "* URL frontier: list of all URL that you have found but not visited yet\n",
    "<img src=\"../images/se_url_frontier.png\" alt=\"ml\" style=\"width: 600px;\"/>"
   ]
  },
  {
   "cell_type": "markdown",
   "metadata": {
    "slideshow": {
     "slide_type": "subslide"
    }
   },
   "source": [
    "### URL frontier: what to index next?\n",
    "* Keep all crawling threads busy but be polite\n",
    "    * Implictly: don't affect website performance \n",
    "    * Explicitly: follow webmaster's wishes\n",
    "        * Robots.txt, sitemaps\n",
    "* Heuristic: time between successive requests >> host request latency\n",
    "* Freshness: crawl pages that update frequently more often\n",
    "    * e.g. news sites\n",
    "    * balance with politeness "
   ]
  },
  {
   "cell_type": "markdown",
   "metadata": {
    "slideshow": {
     "slide_type": "subslide"
    }
   },
   "source": [
    "#### Robots.txt\n",
    "* Written by webmaster, tells crawlers what (not) to index\n",
    "    * Specific sites/folders may be allowed or disallowed\n",
    "* If not followed, an angry webmaster may block the crawler entirely\n",
    "* [Further reading](https://www.contentkingapp.com/academy/robotstxt/)\n",
    "\n",
    "<img src=\"../images/se_robots.png\" alt=\"ml\" style=\"width: 500px;\"/>"
   ]
  },
  {
   "cell_type": "markdown",
   "metadata": {
    "slideshow": {
     "slide_type": "subslide"
    }
   },
   "source": [
    "#### Sitemap.xml\n",
    "* Generated by webmaster, informs crawlers:\n",
    "    * Which pages should be indexed (even if not linked)\n",
    "    * When and how often pages are updated\n",
    "* [Further reading](https://moz.com/blog/xml-sitemaps)\n",
    "\n",
    "<img src=\"../images/se_sitemap.png\" alt=\"ml\" style=\"width: 500px;\"/>"
   ]
  },
  {
   "cell_type": "markdown",
   "metadata": {
    "slideshow": {
     "slide_type": "subslide"
    }
   },
   "source": [
    "### Mercator Scheme\n",
    "* High performance crawling\n",
    "* Balance coverage, freshness, politeness    \n",
    "<img src=\"../images/se_mercator.png\" alt=\"ml\" style=\"width: 500px;\"/>"
   ]
  },
  {
   "cell_type": "markdown",
   "metadata": {
    "slideshow": {
     "slide_type": "subslide"
    }
   },
   "source": [
    "### Mercator Scheme\n",
    "* Front queues: K queues, ordered from highest to lowest prioriity\n",
    "    * Prioritizer assigns every new URL to specific queue\n",
    "    * Heuristics to ensure freshness:\n",
    "        * Refresh rate sampled from previous crawls\n",
    "        * Application-specific (e.g., “crawl news sites more often”)\n",
    "* Back queues: B queues, one per website host\n",
    "    * Front queue selector chooses a front queue to pull a URL\n",
    "        * Round robin, biased to high-priority queues\n",
    "        * Ensures that back queues are never empty\n",
    "* Back queue selector keeps sorted heap of all back queues\n",
    "    * Sorted by when each host may/should be be contacted again\n",
    "    * Ensures that hosts are not hit too frequently, keeps threads busy\n",
    "* Crawler thread pulls URL from root of sorted heap"
   ]
  },
  {
   "cell_type": "markdown",
   "metadata": {
    "slideshow": {
     "slide_type": "subslide"
    }
   },
   "source": [
    "### Freshness\n",
    "* HTTP HEAD requests allows query to check for updates without downloading page itself\n",
    "<img src=\"../images/se_head.png\" alt=\"ml\" style=\"width: 500px;\"/>"
   ]
  },
  {
   "cell_type": "markdown",
   "metadata": {
    "slideshow": {
     "slide_type": "subslide"
    }
   },
   "source": [
    "### Freshness\n",
    "* Web page updates tend to follow a Poisson distribution\n",
    "* The older a page gets, the more it 'costs' not to crawl it again\n",
    "* Evaluation metrics of freshness policy:\n",
    "    * Age: t(visit) - t(modified)\n",
    "    * Number of changes, average change interval"
   ]
  },
  {
   "cell_type": "code",
   "execution_count": 3,
   "metadata": {
    "hide_input": true,
    "slideshow": {
     "slide_type": "subslide"
    }
   },
   "outputs": [
    {
     "data": {
      "image/png": "[encoded data removed]",
      "text/plain": [
       "<Figure size 432x288 with 1 Axes>"
      ]
     },
     "metadata": {},
     "output_type": "display_data"
    }
   ],
   "source": [
    "from scipy.misc import factorial\n",
    "\n",
    "t = np.arange(0, 20, 0.1)\n",
    "d = np.exp(-5)*np.power(5, t)/factorial(t)\n",
    "\n",
    "plt.plot(t, d, 'bs')\n",
    "plt.xlabel('Time')\n",
    "plt.ylabel('Update probability')\n",
    "plt.show()"
   ]
  },
  {
   "cell_type": "markdown",
   "metadata": {
    "slideshow": {
     "slide_type": "subslide"
    }
   },
   "source": [
    "### Basic crawling process\n",
    "<img src=\"../images/se_crawl_process.png\" alt=\"ml\" style=\"width: 700px;\"/>"
   ]
  },
  {
   "cell_type": "markdown",
   "metadata": {
    "slideshow": {
     "slide_type": "subslide"
    }
   },
   "source": [
    "### Basic crawling process\n",
    "* Fetch URL from frontier (e,g, Mercator scheme)\n",
    "* Download and parse webpage, extract links\n",
    "* Check if content already seen, if not, add to document index\n",
    "    * Checksum, cyclic redundancy check, Bloom filter,...\n",
    "    * Near-duplicate detection (shingling)\n",
    "* For each extracted URL:\n",
    "    * Check if it passes filters (e.g. only crawl .edu pages)\n",
    "    * Check if already in frontier (eliminate duplicates)\n",
    "    * Add to URL frontier or URL store"
   ]
  },
  {
   "cell_type": "markdown",
   "metadata": {
    "slideshow": {
     "slide_type": "subslide"
    }
   },
   "source": [
    "#### Distributed crawling\n",
    "* Use hash function to assign URLs to crawler hosts\n",
    "* Broadcast URL list _from_ every host, _to_ every host\n",
    "<img src=\"../images/se_crawl_process2.png\" alt=\"ml\" style=\"width: 700px;\"/>"
   ]
  },
  {
   "cell_type": "markdown",
   "metadata": {
    "slideshow": {
     "slide_type": "subslide"
    }
   },
   "source": [
    "### Deep web\n",
    "<img src=\"../images/se_darkweb.png\" alt=\"ml\" style=\"width: 700px;\"/>"
   ]
  },
  {
   "cell_type": "markdown",
   "metadata": {
    "slideshow": {
     "slide_type": "slide"
    }
   },
   "source": [
    "### Open-source crawlers\n",
    "* [NUTCH (Java)](http://nutch.apache.org/)\n",
    "    * part of the Lucene search engine\n",
    "    * supports large-scale crawling (Hadoop, Spark)\n",
    "* [WIRE (C++)](http://www.cwr.cl/projects/WIRE/)\n",
    "    * several policies for scheduling page downloads\n",
    "    * generating reports/statistics on downloaded pages\n",
    "* [Beautiful Soup (Python)](https://www.crummy.com/software/BeautifulSoup/bs4/doc/)\n",
    "    * `pip install BeautifulSoup4`\n",
    "    * powerful HTML parser\n",
    "    * relies on other libraries for downloading and storing\n",
    "* [Scrapy (Python)](https://scrapy.org/)\n",
    "    * `pip install scrapy`\n",
    "    * to write an entire (asynchronous) crawler\n",
    "    * more powerful, keep politeness in mind!"
   ]
  },
  {
   "cell_type": "markdown",
   "metadata": {
    "slideshow": {
     "slide_type": "subslide"
    }
   },
   "source": [
    "#### Installation\n",
    "\n",
    "```python\n",
    "    pip install BeautifulSoup4\n",
    "    pip install requests\n",
    "    pip install scrapy\n",
    "```"
   ]
  },
  {
   "cell_type": "markdown",
   "metadata": {
    "slideshow": {
     "slide_type": "subslide"
    }
   },
   "source": [
    "### Beautiful Soup example\n",
    "* Use `requests` to do an HTML request\n",
    "* Use BeautifulSoup to convert the HTML content into a Python object\n",
    "* Query the BeautifulSoup object for the information you are interested in\n",
    "    * This is he actual `scraping` for relevant information\n",
    "    * You may need to look at the HTML to see where to find the information\n",
    "* This returns the weather at TU/e right now:\n",
    "    \n",
    "``` python    \n",
    "    page = requests.get(\"https://darksky.net/forecast/51.4466,5.4916/ca12/en\")\n",
    "    soup = BeautifulSoup(page.content, 'html.parser')\n",
    "    summary = soup.find_all('span', class_='summary')[0].get_text()\n",
    "    forecast = soup.find_all('span', class_='next')[0].get_text()\n",
    "```"
   ]
  },
  {
   "cell_type": "code",
   "execution_count": 4,
   "metadata": {
    "hide_input": true
   },
   "outputs": [
    {
     "name": "stdout",
     "output_type": "stream",
     "text": [
      "6˚ Drizzle and Breezy.\n",
      "\n",
      "          \n",
      "          Rain and breezy until this evening.\n",
      "        \n"
     ]
    }
   ],
   "source": [
    "import requests\n",
    "import html\n",
    "from bs4 import BeautifulSoup\n",
    "\n",
    "page = requests.get(\"https://darksky.net/forecast/51.4466,5.4916/ca12/en\")\n",
    "soup = BeautifulSoup(page.content, 'html.parser')\n",
    "summary = soup.find_all('span', class_='summary')[0].get_text()\n",
    "forecast = soup.find_all('span', class_='next')[0].get_text()\n",
    "print(html.unescape(summary))\n",
    "print(html.unescape(forecast))"
   ]
  },
  {
   "cell_type": "markdown",
   "metadata": {
    "slideshow": {
     "slide_type": "subslide"
    }
   },
   "source": [
    "* Get all URLs on the page\n",
    "    * You'll still need to resolve relative links\n",
    "\n",
    "``` python\n",
    "    [x.get('href') for x in soup.find_all('a') if x.get('href') is not None]\n",
    "```"
   ]
  },
  {
   "cell_type": "code",
   "execution_count": 5,
   "metadata": {
    "hide_input": true
   },
   "outputs": [
    {
     "data": {
      "text/plain": [
       "['/',\n",
       " '/app',\n",
       " '/maps',\n",
       " '/dev',\n",
       " '/help/website',\n",
       " '/about',\n",
       " 'https://twitter.com/darkskyapp',\n",
       " '/forecast/51.4466,5.4916/ca12/en',\n",
       " '/details/51.4466,5.4916/2019-3-13/ca12/en',\n",
       " '/details/51.4466,5.4916/2019-3-14/ca12/en',\n",
       " '/details/51.4466,5.4916/2019-3-15/ca12/en',\n",
       " '/details/51.4466,5.4916/2019-3-16/ca12/en',\n",
       " '/details/51.4466,5.4916/2019-3-17/ca12/en',\n",
       " '/details/51.4466,5.4916/2019-3-18/ca12/en',\n",
       " '/details/51.4466,5.4916/2019-3-19/ca12/en',\n",
       " '/details/51.4466,5.4916/2019-3-20/ca12/en',\n",
       " '/dev',\n",
       " '/app',\n",
       " '/sports',\n",
       " '/widgets',\n",
       " 'http://github.com/darkskyapp',\n",
       " '/tos',\n",
       " 'https://blog.darksky.net/',\n",
       " '/help',\n",
       " '/contact',\n",
       " '/about',\n",
       " '/privacy',\n",
       " '/jobs']"
      ]
     },
     "execution_count": 5,
     "metadata": {},
     "output_type": "execute_result"
    }
   ],
   "source": [
    "[x.get('href') for x in soup.find_all('a') if x.get('href') is not None]"
   ]
  },
  {
   "cell_type": "markdown",
   "metadata": {
    "slideshow": {
     "slide_type": "subslide"
    }
   },
   "source": [
    "#### Scrapy example\n",
    "* A simple spider for quotes\n",
    "* Beware: the runner is an asynchronous process, you need to start/stop it correctly (see code)\n",
    "\n",
    "``` python\n",
    "    import scrapy\n",
    "    import scrapy.crawler as crawler\n",
    "\n",
    "    class QuotesSpider(scrapy.Spider):\n",
    "        name = \"quotes\"\n",
    "        start_urls = ['http://quotes.toscrape.com/tag/humor/']\n",
    "\n",
    "        def parse(self, response):\n",
    "            for quote in response.css('div.quote'):\n",
    "                print(quote.css('span.text::text').extract_first())\n",
    "            \n",
    "    runner = crawler.CrawlerRunner()\n",
    "    deferred = runner.crawl(QuotesSpider)\n",
    "```"
   ]
  },
  {
   "cell_type": "markdown",
   "metadata": {
    "slideshow": {
     "slide_type": "subslide"
    }
   },
   "source": [
    "Example run:"
   ]
  },
  {
   "cell_type": "code",
   "execution_count": 6,
   "metadata": {
    "hide_input": false,
    "slideshow": {
     "slide_type": "skip"
    }
   },
   "outputs": [],
   "source": [
    "import scrapy\n",
    "import scrapy.crawler as crawler\n",
    "from multiprocessing import Process, Queue\n",
    "from twisted.internet import reactor\n",
    "\n",
    "# the spider itself\n",
    "class QuotesSpider(scrapy.Spider):\n",
    "    name = \"quotes\"\n",
    "    start_urls = ['http://quotes.toscrape.com/tag/humor/']\n",
    "\n",
    "    def parse(self, response):\n",
    "        for quote in response.css('div.quote'):\n",
    "            print(quote.css('span.text::text').extract_first())\n",
    "\n",
    "\n",
    "# the wrapper to handle asynchronous runs\n",
    "def run_spider(spider):\n",
    "    def f(q):\n",
    "        try:\n",
    "            runner = crawler.CrawlerRunner()\n",
    "            deferred = runner.crawl(spider)\n",
    "            deferred.addBoth(lambda _: reactor.stop())\n",
    "            reactor.run()\n",
    "            q.put(None)\n",
    "        except Exception as e:\n",
    "            q.put(e)\n",
    "\n",
    "    q = Queue()\n",
    "    p = Process(target=f, args=(q,))\n",
    "    p.start()\n",
    "    result = q.get()\n",
    "    p.join()\n",
    "\n",
    "    if result is not None:\n",
    "        raise result"
   ]
  },
  {
   "cell_type": "code",
   "execution_count": 7,
   "metadata": {
    "hide_input": true
   },
   "outputs": [
    {
     "name": "stdout",
     "output_type": "stream",
     "text": [
      "“The person, be it gentleman or lady, who has not pleasure in a good novel, must be intolerably stupid.”\n",
      "“A day without sunshine is like, you know, night.”\n",
      "“Anyone who thinks sitting in church can make you a Christian must also think that sitting in a garage can make you a car.”\n",
      "“Beauty is in the eye of the beholder and it may be necessary from time to time to give a stupid or misinformed beholder a black eye.”\n",
      "“All you need is love. But a little chocolate now and then doesn't hurt.”\n",
      "“Remember, we're madly in love, so it's all right to kiss me anytime you feel like it.”\n",
      "“Some people never go crazy. What truly horrible lives they must lead.”\n",
      "“The trouble with having an open mind, of course, is that people will insist on coming along and trying to put things in it.”\n",
      "“Think left and think right and think low and think high. Oh, the thinks you can think up if only you try!”\n",
      "“The reason I talk to myself is because I’m the only one whose answers I accept.”\n"
     ]
    }
   ],
   "source": [
    "run_spider(QuotesSpider)"
   ]
  },
  {
   "cell_type": "markdown",
   "metadata": {
    "slideshow": {
     "slide_type": "subslide"
    }
   },
   "source": [
    "* See the [Scrapy documentation](https://docs.scrapy.org) for many more examples\n",
    "* Don't forget to be polite, also known as _trottling_\n",
    "* You can set options in a `settings.py` file, e.g.\n",
    "\n",
    "``` python\n",
    "    ROBOTSTXT_OBEY=True\n",
    "    DOWNLOAD_DELAY = 1.5\n",
    "    AUTOTHROTTLE_ENABLED = True\n",
    "    AUTOTHROTTLE_START_DELAY = 2\n",
    "    AUTOTHROTTLE_TARGET_CONCURRENCY = 6\n",
    "```"
   ]
  },
  {
   "cell_type": "markdown",
   "metadata": {
    "slideshow": {
     "slide_type": "slide"
    }
   },
   "source": [
    "## Text Selection and Transformation\n",
    "* Use a parser to identify structure of HTML, XML \n",
    "* When building a search index, only index useful words\n",
    "    * Stop word removal (“and”, “or”, “the”, “in”)\n",
    "    * Stemming (“computer”, “computers”, “computing”, “compute”)\n",
    "* Remove noise: ads, clickbait, non-content (hard)\n",
    "* Link analysis\n",
    "    * Identify popularity and community information (e.g. Pagerank)\n",
    "* Information extraction\n",
    "    * Named entity recognition to identify people, places, dates,...\n",
    "    * e.g. Google Knowledge Graph\n",
    "* Classification\n",
    "    * Extract topics, reading levels, sentiment, genre,..."
   ]
  },
  {
   "cell_type": "markdown",
   "metadata": {
    "slideshow": {
     "slide_type": "subslide"
    }
   },
   "source": [
    "## Document Data storage\n",
    "* Page content, meta-data (e.g. creation date), links,...\n",
    "* Requires fast access (indexes) for the search engine\n",
    "    * Ranking, snippet generation, ...\n",
    "* Usually a distributed system\n",
    "    * Distributed search engine (e.g. ElasticSearch)\n",
    "    * Semi-structured storage (e.g. BigTable, HBase)\n",
    "    * Distributed computing (e.g. MapReduce, Spark)\n",
    "    * Distributed analysis (e.g. MLlib)"
   ]
  },
  {
   "cell_type": "markdown",
   "metadata": {
    "slideshow": {
     "slide_type": "subslide"
    }
   },
   "source": [
    "#### Hadoop/MapReduce ecosystem\n",
    "<img src=\"../images/se_hadoop.png\" alt=\"ml\" style=\"width: 700px;\"/>"
   ]
  },
  {
   "cell_type": "markdown",
   "metadata": {
    "slideshow": {
     "slide_type": "subslide"
    }
   },
   "source": [
    "#### Spark ecosystem\n",
    "* [Online course](https://www.edx.org/course/distributed-machine-learning-apache-uc-berkeleyx-cs120x)\n",
    "* [(Free) Community Edition](https://databricks.com/try-databricks)\n",
    "<img src=\"../images/se_spark.png\" alt=\"ml\" style=\"width: 700px;\"/>"
   ]
  },
  {
   "cell_type": "code",
   "execution_count": null,
   "metadata": {},
   "outputs": [],
   "source": []
  }
 ],
 "metadata": {
  "anaconda-cloud": {},
  "celltoolbar": "Slideshow",
  "kernelspec": {
   "display_name": "Python 3",
   "language": "python",
   "name": "python3"
  },
  "language_info": {
   "codemirror_mode": {
    "name": "ipython",
    "version": 3
   },
   "file_extension": ".py",
   "mimetype": "text/x-python",
   "name": "python",
   "nbconvert_exporter": "python",
   "pygments_lexer": "ipython3",
   "version": "3.7.3"
  }
 },
 "nbformat": 4,
 "nbformat_minor": 2
}
