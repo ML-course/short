{
 "cells": [
  {
   "cell_type": "markdown",
   "metadata": {
    "slideshow": {
     "slide_type": ""
    }
   },
   "source": [
    "# Topic Modelling\n",
    "\n",
    "<img src=\"../images/tm_topics_graph.png\" alt=\"ml\" style=\"width: 1000px;\"/>"
   ]
  },
  {
   "cell_type": "code",
   "execution_count": 39,
   "metadata": {
    "hide_input": false,
    "slideshow": {
     "slide_type": "skip"
    }
   },
   "outputs": [
    {
     "data": {
      "text/html": [
       "<style>html, body{overflow-y: visible !important} .CodeMirror{min-width:105% !important;} .rise-enabled .CodeMirror, .rise-enabled .output_subarea{font-size:140%; line-height:1.2; overflow: visible;} .output_subarea pre{width:110%}</style>"
      ],
      "text/plain": [
       "<IPython.core.display.HTML object>"
      ]
     },
     "execution_count": 39,
     "metadata": {},
     "output_type": "execute_result"
    }
   ],
   "source": [
    "# Global imports and settings\n",
    "from preamble import *\n",
    "%matplotlib inline\n",
    "plt.rcParams['figure.dpi'] = 120 # Use 300 for PDF, 100 for slides\n",
    "# InteractiveShell.ast_node_interactivity = \"all\"\n",
    "HTML('''<style>html, body{overflow-y: visible !important} .CodeMirror{min-width:105% !important;} .rise-enabled .CodeMirror, .rise-enabled .output_subarea{font-size:140%; line-height:1.2; overflow: visible;} .output_subarea pre{width:110%}</style>''') # For slides"
   ]
  },
  {
   "cell_type": "code",
   "execution_count": 40,
   "metadata": {
    "slideshow": {
     "slide_type": "skip"
    }
   },
   "outputs": [
    {
     "data": {
      "application/javascript": [
       "IPython.OutputArea.prototype._should_scroll = function(lines) {\n",
       "    return false;\n",
       "}"
      ],
      "text/plain": [
       "<IPython.core.display.Javascript object>"
      ]
     },
     "metadata": {},
     "output_type": "display_data"
    }
   ],
   "source": [
    "%%javascript\n",
    "IPython.OutputArea.prototype._should_scroll = function(lines) {\n",
    "    return false;\n",
    "}"
   ]
  },
  {
   "cell_type": "markdown",
   "metadata": {
    "slideshow": {
     "slide_type": "subslide"
    }
   },
   "source": [
    "## Topic modelling\n",
    "* Subfield of Natural Language Understanding\n",
    "* Learning, recognizing, extracting _topics_ across a collection of documents\n",
    "    * LSA: Latent Semantic Analysis\n",
    "    * pLSA: Probabilistic LSA\n",
    "    * LDA: Latent Dirichlet Allocation\n",
    "        - Bayesian version of LSA\n",
    "    * lda2vec: deep learning LDA\n",
    "        - word2vec: LSE vector representation of words\n",
    "        - lda2vec: jointly learns word, document, topic vectors"
   ]
  },
  {
   "cell_type": "markdown",
   "metadata": {
    "slideshow": {
     "slide_type": "subslide"
    }
   },
   "source": [
    "### Basic assumptions\n",
    "* Semantics of our document are governed by hidden (latent) variables: __topics__\n",
    "* Each __document__ consists of a mixture of __topics__\n",
    "* Each __topic__ consists of a collection of __words__\n",
    "<img src=\"../images/tm_basics.png\" alt=\"ml\" style=\"width: 1000px;\"/>"
   ]
  },
  {
   "cell_type": "markdown",
   "metadata": {
    "slideshow": {
     "slide_type": "slide"
    }
   },
   "source": [
    "## Latent Semantic Analysis (recap)\n",
    "* Given m document and n words, build an $m$x$n$ _document-term_ matrix $A$\n",
    "<img src=\"../images/tm_matrix2.png\" alt=\"ml\" style=\"width: 600px;\"/>\n",
    "* Values $w_{i,j}$: weight of term $j$ in document $i$ (e.g. _tf.idf_):\n",
    "<img src=\"../images/tm_tfidf.png\" alt=\"ml\" style=\"width: 300px;\"/>"
   ]
  },
  {
   "cell_type": "markdown",
   "metadata": {
    "slideshow": {
     "slide_type": "subslide"
    }
   },
   "source": [
    "* Matrix A is very sparse, very noisy, high-dimensional (and redundant)\n",
    "* To find $t$ topics, compute a _low rank approximation_ of rank _t_\n",
    "* _Truncated SVD_: compute SVD, keep _t_ largest singular values, first _t_ columns\n",
    "$$A \\approx U_t S_t V_t^T$$\n",
    "<img src=\"../images/tm_svd.png\" alt=\"ml\" style=\"width: 400px;\"/>\n",
    "* Document-topic matrix $U_t$: represents documents as vector of _t_ topics\n",
    "* Term-topic matrix $V_t$: represents terms as vector of _t_ topics\n",
    "\n",
    "\n",
    "    "
   ]
  },
  {
   "cell_type": "markdown",
   "metadata": {
    "slideshow": {
     "slide_type": "subslide"
    }
   },
   "source": [
    "* Benefits: \n",
    "    * Embeds terms and documents in t-dimensional vector space\n",
    "    * Use e.g. cosine similarity to compute: \n",
    "        - similarity between documents\n",
    "        - similarity between terms\n",
    "        - similarity between query terms and (parts of) documents \n",
    "* Drawbacks:\n",
    "    * Embedding is not interpretable (what do topics mean?)\n",
    "    * Needs really large set of documents and dictionary"
   ]
  },
  {
   "cell_type": "markdown",
   "metadata": {
    "slideshow": {
     "slide_type": "slide"
    }
   },
   "source": [
    "### Simple implementation (sklearn)\n",
    "```python\n",
    "    # Build document-term matrix\n",
    "    vectorizer = TfidfVectorizer(stop_words='english',\n",
    "                                 use_idf=True, smooth_idf=True)\n",
    "    # Truncated SVD\n",
    "    svd_model = TruncatedSVD(n_components=100, # Has to be tuned\n",
    "                             algorithm='randomized')\n",
    "    # Compute\n",
    "    vectorized = vectorizer.fit_transform(documents)\n",
    "    docs = svd_model.fit_transform(vectorized)    # Computes U_t * S_t\n",
    "    terms = svd_model.fit_transform(vectorized.T) # Computes V_t * S_t\n",
    "```"
   ]
  },
  {
   "cell_type": "markdown",
   "metadata": {
    "slideshow": {
     "slide_type": "subslide"
    }
   },
   "source": [
    "#### Example (BBC News 11/03/2018)\n",
    "__doc1__: America's new commercial astronaut capsule has completed its demonstration flight with a successful splashdown in the Atlantic Ocean. The SpaceX Dragon vehicle left the International Space Station after being docked there for the past week, and re-entered Earth's atmosphere. It had a heat-shield to protect it from the high temperatures of re-entry. Four parachutes brought it into soft contact with water about 450km from Cape Canaveral, Florida. The mission - which had no humans aboard, only a dummy covered in sensors - went according to plan. The Dragon has set the stage for the US space agency Nasa to approve the vehicle for crewed flights.\"\n",
    "\n",
    "__doc2__: \"Europe's quarter-century-long satellite data record of ice sheet changes in the Antarctic is secure into the future. It is possible because a new spacecraft tasked with observing what is going on in the polar south is finally producing very serviceable data. When the EU's Sentinel-3 mission was first launched in 2016, it struggled even to sense the continent's edge. That problem's been fixed and its observations of the ice have now been shown to be consistent and accurate.\"\n",
    "\n",
    "__doc3__: \"Muddy, coastal marshes are sleeping giants that could fight climate change, scientists say. A global study has shown that these regions could be awoken by sea level rise. Sea level is directly linked to the amount of carbon these wetlands store in their soil, the team reports in the journal Nature. Researchers studied the carbon locked away in cores of wetland mud from around the world. They say that the preservation of coastal wetlands is critical for mitigating global warming.\""
   ]
  },
  {
   "cell_type": "code",
   "execution_count": 55,
   "metadata": {
    "slideshow": {
     "slide_type": "skip"
    }
   },
   "outputs": [],
   "source": [
    "# Example with some recent BBC stories\n",
    "doc1 = \"America's new commercial astronaut capsule has completed its demonstration flight with a successful splashdown in the Atlantic Ocean. The SpaceX Dragon vehicle left the International Space Station after being docked there for the past week, and re-entered Earth's atmosphere. It had a heat-shield to protect it from the high temperatures of re-entry. Four parachutes brought it into soft contact with water about 450km from Cape Canaveral, Florida. The mission - which had no humans aboard, only a dummy covered in sensors - went according to plan. The Dragon has set the stage for the US space agency Nasa to approve the vehicle for crewed flights.\"\n",
    "doc2 = \"Europe's quarter-century-long satellite data record of ice sheet changes in the Antarctic is secure into the future. It is possible because a new spacecraft tasked with observing what is going on in the polar south is finally producing very serviceable data. When the EU's Sentinel-3 mission was first launched in 2016, it struggled even to sense the continent's edge. That problem's been fixed and its observations of the ice have now been shown to be consistent and accurate.\"\n",
    "doc3=  \"Muddy, coastal marshes are sleeping giants that could fight climate change, scientists say. A global study has shown that these regions could be awoken by sea level rise. Sea level is directly linked to the amount of carbon these wetlands store in their soil, the team reports in the journal Nature. Researchers studied the carbon locked away in cores of wetland mud from around the world. They say that the preservation of coastal wetlands is critical for mitigating global warming.\"\n",
    "documents = [doc1, doc2, doc3]"
   ]
  },
  {
   "cell_type": "code",
   "execution_count": 52,
   "metadata": {
    "slideshow": {
     "slide_type": "skip"
    }
   },
   "outputs": [],
   "source": [
    "from sklearn.feature_extraction.text import TfidfVectorizer\n",
    "from sklearn.decomposition import TruncatedSVD\n",
    "from sklearn.pipeline import Pipeline\n",
    "\n",
    "# raw documents to tf-idf matrix: \n",
    "vectorizer = TfidfVectorizer(stop_words='english',\n",
    "                             use_idf=True, \n",
    "                             smooth_idf=True)\n",
    "# SVD to reduce dimensionality: \n",
    "svd_model = TruncatedSVD(n_components=2, # Try 100 or greater\n",
    "                         algorithm='randomized',\n",
    "                         n_iter=10)\n",
    "# pipeline of tf-idf + SVD, fit to and applied to documents:\n",
    "vectorized = vectorizer.fit_transform(documents)\n",
    "docs = svd_model.fit_transform(vectorized)\n",
    "terms = svd_model.fit_transform(vectorized.T)"
   ]
  },
  {
   "cell_type": "markdown",
   "metadata": {
    "slideshow": {
     "slide_type": "subslide"
    }
   },
   "source": [
    "Vectorized documents (in 2 dimensions/topics for plotting):"
   ]
  },
  {
   "cell_type": "code",
   "execution_count": 64,
   "metadata": {
    "hide_input": true,
    "slideshow": {
     "slide_type": "-"
    }
   },
   "outputs": [
    {
     "data": {
      "image/png": "[encoded data removed]",
      "text/plain": [
       "<Figure size 432x288 with 1 Axes>"
      ]
     },
     "metadata": {},
     "output_type": "display_data"
    }
   ],
   "source": [
    "x, y = docs[:,0], docs[:,1]\n",
    "fig, ax = plt.subplots()\n",
    "ax.scatter(x,y)\n",
    "label = [\"doc1\",\"doc2\",\"doc3\"]\n",
    "\n",
    "for i, txt in enumerate(label):\n",
    "    ax.annotate(txt, (x[i],y[i]))"
   ]
  },
  {
   "cell_type": "markdown",
   "metadata": {},
   "source": [
    "Vectorized terms:"
   ]
  },
  {
   "cell_type": "code",
   "execution_count": 95,
   "metadata": {
    "hide_input": true
   },
   "outputs": [
    {
     "data": {
      "image/png": "[encoded data removed]",
      "text/plain": [
       "<Figure size 432x288 with 1 Axes>"
      ]
     },
     "metadata": {},
     "output_type": "display_data"
    }
   ],
   "source": [
    "import random\n",
    "x, y = terms[:,0], terms[:,1]\n",
    "fig, ax = plt.subplots()\n",
    "ax.scatter(x,y)\n",
    "label = vectorizer.get_feature_names()\n",
    "\n",
    "for i, txt in enumerate(label):\n",
    "    ax.annotate(txt, (x[i],y[i]+random.random() * 0.06))"
   ]
  },
  {
   "cell_type": "markdown",
   "metadata": {
    "slideshow": {
     "slide_type": "slide"
    }
   },
   "source": [
    "## Probabilistic Latent Semantic Analysis (pLSA)\n",
    "LSA: \n",
    "* Each __document__ consists of a collection of __topics__\n",
    "* Each __topic__ consists of a collection of __words__\n",
    "\n",
    "pLSA:\n",
    "* Each __document__ is a (multinomial) _probability distribution_ over __topics__\n",
    "    * E.g. 20% about topic 1, 50% topic 2, 30% topic 4\n",
    "* Each __topic__ is a (multinomial) _probability distribution_ over __words__\n",
    "    * E.g. 40% about word A, 50% word B, 10% word C"
   ]
  },
  {
   "cell_type": "markdown",
   "metadata": {
    "slideshow": {
     "slide_type": "subslide"
    }
   },
   "source": [
    "Can be represented on a simplex with barycentric coordinates:\n",
    "* Doc 1: 30% about topic 1, 10% topic 2, 60% topic 3\n",
    "* Topic 1: 5% about term A, 40% term B, 55% term C\n",
    "\n",
    "<img src=\"../images/tm_simplex.png\" alt=\"ml\" style=\"width: 400px;\"/>\n"
   ]
  },
  {
   "cell_type": "markdown",
   "metadata": {
    "slideshow": {
     "slide_type": "subslide"
    }
   },
   "source": [
    "### pLSA: Generative model\n",
    "* Assumes that documents were generated by a (topic) model:\n",
    "    - Choose a number of words in the document\n",
    "    - Choose a topic distribution (_mixture_) over a fixed set of topics\n",
    "    - Generate documents by:\n",
    "        - Picking a topic _z_ according to document's topic distribution $P(z|d)$\n",
    "        - Picking a word _w_ according to topics's word distribution $P(w|z)$\n",
    "* Ignorant of syntax/grammar: just vocabulary words\n",
    "        \n",
    "<img src=\"../images/tm_generative.png\" alt=\"ml\" style=\"width: 1000px;\"/>"
   ]
  },
  {
   "cell_type": "markdown",
   "metadata": {},
   "source": [
    "Formally:\n",
    "<img src=\"../images/tm_plda.png\" alt=\"ml\" style=\"width: 400px;\"/>\n",
    "* Joint probability of seeing $d$ and $w$ together: \n",
    "$$P(D,W) = P(D) \\sum_Z{P(Z|D)P(W|Z)}$$\n",
    "\n",
    "<img src=\"../images/tm_generative.png\" alt=\"ml\" style=\"width: 1000px;\"/>"
   ]
  },
  {
   "cell_type": "markdown",
   "metadata": {
    "slideshow": {
     "slide_type": "subslide"
    }
   },
   "source": [
    "### pLSA: Inference (expectation maximization)\n",
    "* Reverse process: Given a corpus of documents, \n",
    "    - learn the topic representation of _t_ topics in each document and word distribution in each topic\n",
    "    - Backtrack from documents to identify topics that generated the corpus\n",
    "* Randomly assign each word to one of _t_ topics\n",
    "* For each document d, assume all _other_ topic distribution are correct, and calculate:\n",
    "    * p(z|d): proportion of words in _d_ assigned to topic _z_\n",
    "    * p(w|z): proportion of assignments to topic _z_ over all documents with word _w_\n",
    "* Assign _w_ to topic _z_ with probability p(z|d) * p(w|z), repeat\n",
    "<img src=\"../images/tm_inference.png\" alt=\"ml\" style=\"width: 1000px;\"/>"
   ]
  },
  {
   "cell_type": "markdown",
   "metadata": {},
   "source": [
    "#### Equivalent representations:\n",
    "* Start with document with P(D), then generate topic with $P(z|d)$, then generate word with $P(w|z)$\n",
    "$$P(D,W) = P(D) \\sum_Z{P(Z|D)P(W|Z)}$$\n",
    "* Start with topic with P(Z), then independently generate document with P(d|z) and word with $P(w|z)$\n",
    "$$P(D,W) = \\sum_Z{P(Z)P(D|Z)P(W|Z)}$$\n",
    "* Now we see the parallel with LSA:\n",
    "\n",
    "<img src=\"../images/tm_parallel1.png\" alt=\"ml\" style=\"float: left; width: 30%;\"/>\n",
    "<img src=\"../images/tm_parallel2.png\" alt=\"ml\" style=\"float: left; width: 30%;\"/>\n",
    "\n"
   ]
  },
  {
   "cell_type": "markdown",
   "metadata": {
    "slideshow": {
     "slide_type": "subslide"
    }
   },
   "source": [
    "#### pLSA Benefits\n",
    "* Neat way to explore / understand corpus\n",
    "    * e-Discovery: which emails/tweets are relevant?\n",
    "    * Social media: what are people saying about X?\n",
    "    * Scientific data: what are main topics in literature\n",
    "* Many applications:\n",
    "    * Word sense disambiguation\n",
    "    * Discourse segmentation\n",
    "    * Machine translation\n",
    "    * Object localization in images\n",
    "    * Harmonic analysis of music\n",
    "    * ...\n",
    "* Handles polysemy (many meanings for same word)\n",
    "* Inference is relatively dimple\n",
    "        "
   ]
  },
  {
   "cell_type": "markdown",
   "metadata": {
    "slideshow": {
     "slide_type": "subslide"
    }
   },
   "source": [
    "#### pLSA Drawbacks:\n",
    "* We have no model parameters to model $P(D)$, we don't know how to assign probabilities to documents\n",
    "* The number of parameters grows linearly with the number of documents: prone to overfitting"
   ]
  },
  {
   "cell_type": "markdown",
   "metadata": {
    "slideshow": {
     "slide_type": "slide"
    }
   },
   "source": [
    "## Latent Dirichlet Allocation (LDA)\n",
    "* Bayesian version of pLSA, solves remaining drawbacks\n",
    "* Uses _Dirichlet prior_ for $P(z|d)$\n",
    "* Dirichlet distribution is a distribution over our earlier multinomial distributions\n",
    "* Hyperparameter $\\alpha$ (can be different per topic):\n",
    "    - Low $\\alpha$: document belongs to only few topics.\n",
    "    - $\\alpha=1$: everything equally likely\n",
    "    - High $\\alpha$: document belongs to many (or all) topics."
   ]
  },
  {
   "cell_type": "markdown",
   "metadata": {
    "slideshow": {
     "slide_type": "subslide"
    }
   },
   "source": [
    "Sampling from this distribution, assuming 3 topics (full code in notebook):"
   ]
  },
  {
   "cell_type": "code",
   "execution_count": 108,
   "metadata": {
    "hide_input": true
   },
   "outputs": [
    {
     "data": {
      "image/png": "[encoded data removed]",
      "text/plain": [
       "<Figure size 576x432 with 6 Axes>"
      ]
     },
     "metadata": {},
     "output_type": "display_data"
    }
   ],
   "source": [
    "# Code based on example by Thomas Boggs\n",
    "import matplotlib.tri as tri\n",
    "from functools import reduce\n",
    "\n",
    "_corners = np.array([[0, 0], [1, 0], [0.5, 0.75**0.5]])\n",
    "_triangle = tri.Triangulation(_corners[:, 0], _corners[:, 1])\n",
    "_midpoints = [(_corners[(i + 1) % 3] + _corners[(i + 2) % 3]) / 2.0 \\\n",
    "              for i in range(3)]\n",
    "\n",
    "def xy2bc(xy, tol=1.e-3):\n",
    "    '''Converts 2D Cartesian coordinates to barycentric.\n",
    "    Arguments:\n",
    "        `xy`: A length-2 sequence containing the x and y value.\n",
    "    '''\n",
    "    s = [(_corners[i] - _midpoints[i]).dot(xy - _midpoints[i]) / 0.75 \\\n",
    "         for i in range(3)]\n",
    "    return np.clip(s, tol, 1.0 - tol)\n",
    "\n",
    "class Dirichlet(object):\n",
    "    def __init__(self, alpha):\n",
    "        '''Creates Dirichlet distribution with parameter `alpha`.'''\n",
    "        from math import gamma\n",
    "        from operator import mul\n",
    "        self._alpha = np.array(alpha)\n",
    "        self._coef = gamma(np.sum(self._alpha)) / \\\n",
    "                     reduce(mul, [gamma(a) for a in self._alpha])\n",
    "    def pdf(self, x):\n",
    "        '''Returns pdf value for `x`.'''\n",
    "        from operator import mul\n",
    "        return self._coef * reduce(mul, [xx ** (aa - 1)\n",
    "                                         for (xx, aa)in zip(x, self._alpha)])\n",
    "    def sample(self, N):\n",
    "        '''Generates a random sample of size `N`.'''\n",
    "        return np.random.dirichlet(self._alpha, N)\n",
    "\n",
    "def draw_pdf_contours(dist, border=False, nlevels=200, subdiv=8, **kwargs):\n",
    "    '''Draws pdf contours over an equilateral triangle (2-simplex).\n",
    "    Arguments:\n",
    "        `dist`: A distribution instance with a `pdf` method.\n",
    "        `border` (bool): If True, the simplex border is drawn.\n",
    "        `nlevels` (int): Number of contours to draw.\n",
    "        `subdiv` (int): Number of recursive mesh subdivisions to create.\n",
    "        kwargs: Keyword args passed on to `plt.triplot`.\n",
    "    '''\n",
    "    from matplotlib import ticker, cm\n",
    "    import math\n",
    "\n",
    "    refiner = tri.UniformTriRefiner(_triangle)\n",
    "    trimesh = refiner.refine_triangulation(subdiv=subdiv)\n",
    "    pvals = [dist.pdf(xy2bc(xy)) for xy in zip(trimesh.x, trimesh.y)]\n",
    "\n",
    "    plt.tricontourf(trimesh, pvals, nlevels, **kwargs)\n",
    "    plt.axis('equal')\n",
    "    plt.xlim(0, 1)\n",
    "    plt.ylim(0, 0.75**0.5)\n",
    "    plt.axis('off')\n",
    "    if border is True:\n",
    "        plt.hold(1)\n",
    "        plt.triplot(_triangle, linewidth=1)\n",
    "\n",
    "def plot_points(X, barycentric=True, border=True, **kwargs):\n",
    "    '''Plots a set of points in the simplex.\n",
    "    Arguments:\n",
    "        `X` (ndarray): A 2xN array (if in Cartesian coords) or 3xN array\n",
    "                       (if in barycentric coords) of points to plot.\n",
    "        `barycentric` (bool): Indicates if `X` is in barycentric coords.\n",
    "        `border` (bool): If True, the simplex border is drawn.\n",
    "        kwargs: Keyword args passed on to `plt.plot`.\n",
    "    '''\n",
    "    if barycentric is True:\n",
    "        X = X.dot(_corners)\n",
    "    plt.plot(X[:, 0], X[:, 1], 'k.', ms=1, **kwargs)\n",
    "    plt.axis('equal')\n",
    "    plt.xlim(0, 1)\n",
    "    plt.ylim(0, 0.75**0.5)\n",
    "    plt.axis('off')\n",
    "    if border is True:\n",
    "        plt.hold(1)\n",
    "        plt.triplot(_triangle, linewidth=1)\n",
    "\n",
    "f = plt.figure(figsize=(8, 6))\n",
    "alphas = [[0.05] * 3,\n",
    "          [0.999] * 3,\n",
    "          [5] * 3]\n",
    "          #[2, 5, 15]]\n",
    "for (i, alpha) in enumerate(alphas):\n",
    "    plt.subplot(2, len(alphas), i + 1)\n",
    "    dist = Dirichlet(alpha)\n",
    "    draw_pdf_contours(dist)\n",
    "    title = r'$\\alpha$ = (%.3f, %.3f, %.3f)' % tuple(alpha)\n",
    "    plt.title(title, fontdict={'fontsize': 8})\n",
    "    plt.subplot(2, len(alphas), i + 1 + len(alphas))\n",
    "    plot_points(dist.sample(5000))"
   ]
  },
  {
   "cell_type": "markdown",
   "metadata": {
    "slideshow": {
     "slide_type": "subslide"
    }
   },
   "source": [
    "* We also define a Dirichlet distribution over $P(w|z)$\n",
    "* Equivalent hyperparameter $\\beta$:\n",
    "    - Low $\\beta$: every topic has only few words.\n",
    "    - High $\\beta$: every topic has many words.\n",
    "* Formally, with topic distribution $\\theta$ and word distribution $\\varphi$:\n",
    "    - for K topics, N words, M documents\n",
    "<img src=\"../images/tm_lda.png\" alt=\"ml\" style=\"width: 400px;\"/>"
   ]
  },
  {
   "cell_type": "markdown",
   "metadata": {
    "slideshow": {
     "slide_type": "subslide"
    }
   },
   "source": [
    "### LDA as a generative model\n",
    "* Sample distribution $\\theta_i$ from Dir($\\alpha$)\n",
    "    - $\\theta_i,k$: probability that document _i_ has topic _k_)\n",
    "* Sample distribution $\\varphi_k$ from Dir($\\beta$)\n",
    "    - $\\varphi_k,w$: probability that topic _k_ has word _w_\n",
    "* Sample topic _z_ from $\\theta_i$\n",
    "* Sample word _w_ from $\\varphi_k$\n",
    "\n",
    "<img src=\"../images/tm_lda.png\" alt=\"ml\" style=\"width: 400px;\"/>\n"
   ]
  },
  {
   "cell_type": "markdown",
   "metadata": {
    "slideshow": {
     "slide_type": "subslide"
    }
   },
   "source": [
    "### LDA inference\n",
    "* Inference is similar to what we saw for pLSA\n",
    "* For every new document, we can sample from the Dirichlet distribution\n",
    "    * Hence, generalizes better to new documents\n",
    "* We still need to choose the number of topics and the $\\alpha$,$\\beta$ hyperparameters"
   ]
  },
  {
   "cell_type": "markdown",
   "metadata": {
    "slideshow": {
     "slide_type": "slide"
    }
   },
   "source": [
    "## Examples\n",
    "Many implementations, most useful:\n",
    "- gensim\n",
    "- sklearn.decomposition.LatentDirichletAllocation\n",
    "\n",
    "gensim needs to be installed. We also add wordcloud to visualize the topics. \n",
    "nltk is usedul for preprocessing (e.g. stemming)\n",
    "```\n",
    "pip install gensim\n",
    "pip install wordcloud\n",
    "pip install nltk\n",
    "```"
   ]
  },
  {
   "cell_type": "markdown",
   "metadata": {
    "slideshow": {
     "slide_type": "subslide"
    }
   },
   "source": [
    "### News reports\n",
    "* Data from the Associated Press (AP), already in the data folder\n",
    "* Load a representation via `corpora.BleiCorpus`\n",
    "* Use `models.ldamodel.LdaModel` to run LDA\n",
    "\n",
    "``` python\n",
    "model = models.ldamodel.LdaModel(\n",
    "    corpus, num_topics=100, \n",
    "    id2word=corpus.id2word, alpha=None) # default alpha\n",
    "```"
   ]
  },
  {
   "cell_type": "code",
   "execution_count": 113,
   "metadata": {
    "slideshow": {
     "slide_type": "skip"
    }
   },
   "outputs": [],
   "source": [
    "import gensim\n",
    "from gensim import corpora, models, matutils\n",
    "NUM_TOPICS = 100\n",
    "corpus = corpora.BleiCorpus('../data/ap/ap.dat', '../data/ap/vocab.txt')\n",
    "model = models.ldamodel.LdaModel(\n",
    "    corpus, num_topics=NUM_TOPICS, id2word=corpus.id2word, alpha=None)"
   ]
  },
  {
   "cell_type": "markdown",
   "metadata": {
    "slideshow": {
     "slide_type": "subslide"
    }
   },
   "source": [
    "* How many topics does every document have?"
   ]
  },
  {
   "cell_type": "code",
   "execution_count": 118,
   "metadata": {
    "hide_input": true
   },
   "outputs": [
    {
     "data": {
      "image/png": "[encoded data removed]",
      "text/plain": [
       "<Figure size 432x288 with 1 Axes>"
      ]
     },
     "metadata": {},
     "output_type": "display_data"
    }
   ],
   "source": [
    "num_topics_used = [len(model[doc]) for doc in corpus]\n",
    "fig,ax = plt.subplots()\n",
    "ax.hist(num_topics_used, np.arange(42))\n",
    "ax.set_ylabel('Nr of documents')\n",
    "ax.set_xlabel('Nr of topics')\n",
    "fig.tight_layout()"
   ]
  },
  {
   "cell_type": "markdown",
   "metadata": {
    "slideshow": {
     "slide_type": "subslide"
    }
   },
   "source": [
    "We can do the same after changing the $\\alpha$ value: "
   ]
  },
  {
   "cell_type": "code",
   "execution_count": 121,
   "metadata": {
    "hide_input": true
   },
   "outputs": [
    {
     "name": "stderr",
     "output_type": "stream",
     "text": [
      "[WARNING] [12:42:33:gensim.models.ldamodel] too few updates, training might not converge; consider increasing the number of passes or iterations to improve accuracy\n"
     ]
    },
    {
     "data": {
      "image/png": "[encoded data removed]",
      "text/plain": [
       "<Figure size 432x288 with 1 Axes>"
      ]
     },
     "metadata": {},
     "output_type": "display_data"
    }
   ],
   "source": [
    "ALPHA = 1.0\n",
    "\n",
    "model1 = models.ldamodel.LdaModel(\n",
    "    corpus, num_topics=NUM_TOPICS, id2word=corpus.id2word, alpha=ALPHA)\n",
    "num_topics_used1 = [len(model1[doc]) for doc in corpus]\n",
    "\n",
    "fig,ax = plt.subplots()\n",
    "ax.hist([num_topics_used, num_topics_used1], np.arange(42))\n",
    "ax.set_ylabel('Nr of documents')\n",
    "ax.set_xlabel('Nr of topics')\n",
    "\n",
    "# The coordinates below were fit by trial and error to look good\n",
    "ax.text(9, 223, r'default alpha')\n",
    "ax.text(26, 156, 'alpha=1.0')\n",
    "fig.tight_layout()"
   ]
  },
  {
   "cell_type": "markdown",
   "metadata": {
    "slideshow": {
     "slide_type": "subslide"
    }
   },
   "source": [
    "What is the distribution of topics in the first document?"
   ]
  },
  {
   "cell_type": "code",
   "execution_count": 122,
   "metadata": {
    "hide_input": true
   },
   "outputs": [
    {
     "name": "stdout",
     "output_type": "stream",
     "text": [
      "[(7, 0.048612498), (8, 0.015723428), (31, 0.35472104), (34, 0.13508442), (38, 0.13842407), (55, 0.039698716), (60, 0.013031449), (63, 0.041657068), (76, 0.011997577), (84, 0.054972194), (86, 0.0135803055), (88, 0.101728715)]\n"
     ]
    }
   ],
   "source": [
    "doc = corpus.docbyoffset(0)\n",
    "topics = model[doc]\n",
    "print(topics)"
   ]
  },
  {
   "cell_type": "markdown",
   "metadata": {
    "slideshow": {
     "slide_type": "subslide"
    }
   },
   "source": [
    "A better way to explore the data is to identify the most discussed topic, i.e., the one with the highest total weight.\n",
    "* Get the top 64 words for this topic.\n",
    "* Use `max_words` to set the number of words we want (default is 10).\n",
    "* Visualize the results in a word cloud"
   ]
  },
  {
   "cell_type": "code",
   "execution_count": 123,
   "metadata": {
    "slideshow": {
     "slide_type": "skip"
    }
   },
   "outputs": [],
   "source": [
    "topics = matutils.corpus2dense(model[corpus], num_terms=model.num_topics)\n",
    "weight = topics.sum(1)\n",
    "max_topic = weight.argmax()"
   ]
  },
  {
   "cell_type": "code",
   "execution_count": 130,
   "metadata": {
    "hide_input": true
   },
   "outputs": [
    {
     "data": {
      "image/png": "[encoded data removed]",
      "text/plain": [
       "<Figure size 432x288 with 1 Axes>"
      ]
     },
     "metadata": {},
     "output_type": "display_data"
    }
   ],
   "source": [
    "from wordcloud import WordCloud\n",
    "words = model.show_topic(max_topic, 64)\n",
    "wc = WordCloud(background_color='white', max_words=30, width=600, height=600)\n",
    "wc = wc.generate_from_frequencies(dict(words))\n",
    "fig,ax = plt.subplots()\n",
    "ax.imshow(wc, interpolation=\"bilinear\");"
   ]
  },
  {
   "cell_type": "markdown",
   "metadata": {
    "slideshow": {
     "slide_type": "subslide"
    }
   },
   "source": [
    "# Modeling Wikipedia\n",
    "\n",
    "* We can do the same on a large set of articles from Wikipedia. \n",
    "* Execute the `download_wp` script in the data folder.\n",
    "    - Downloads and preprocessed the data. \n",
    "    - Will take a few hours and over 14GB of disk space."
   ]
  },
  {
   "cell_type": "code",
   "execution_count": null,
   "metadata": {
    "slideshow": {
     "slide_type": "skip"
    }
   },
   "outputs": [],
   "source": [
    "import gensim\n",
    "if not path.exists('wiki_lda.pkl'):\n",
    "    import sys\n",
    "    sys.stderr.write('''\\\n",
    "This script must be run after wikitopics_create.py!\n",
    "\n",
    "That script creates and saves the LDA model (this must onlly be done once).\n",
    "This script is responsible for the analysis.''')\n",
    "    \n",
    "# Load the preprocessed Wikipedia corpus (id2word and mm)\n",
    "id2word = gensim.corpora.Dictionary.load_from_text(\n",
    "    'data/wiki_en_output_wordids.txt.bz2')\n",
    "mm = gensim.corpora.MmCorpus('data/wiki_en_output_tfidf.mm')\n",
    "\n",
    "# Load the precomputed model\n",
    "model = gensim.models.ldamodel.LdaModel.load('wiki_lda.pkl')\n",
    "\n",
    "topics = np.load('topics.npy', mmap_mode='r')"
   ]
  },
  {
   "cell_type": "code",
   "execution_count": null,
   "metadata": {
    "slideshow": {
     "slide_type": "skip"
    }
   },
   "outputs": [],
   "source": [
    "lens = (topics > 0).sum(axis=1)\n",
    "print('Mean number of topics mentioned: {0:.3}'.format(np.mean(lens)))\n",
    "print('Percentage of articles mentioning less than 10 topics: {0:.1%}'.format(np.mean(lens <= 10)))\n",
    "\n",
    "# Weights will be the total weight of each topic\n",
    "weights = topics.sum(0)"
   ]
  },
  {
   "cell_type": "markdown",
   "metadata": {
    "slideshow": {
     "slide_type": "subslide"
    }
   },
   "source": [
    "Retrieve the most heavily used topic and plot it as a word cloud:"
   ]
  },
  {
   "cell_type": "code",
   "execution_count": null,
   "metadata": {
    "slideshow": {
     "slide_type": "skip"
    }
   },
   "outputs": [],
   "source": [
    "words = model.show_topic(weights.argmax(), 64)\n",
    "\n",
    "wc = WordCloud(background_color='white', max_words=30, width=600, height=600)\n",
    "wc = wc.generate_from_frequencies(dict(words))\n",
    "\n",
    "fig,ax = plt.subplots()\n",
    "\n",
    "ax.imshow(wc, interpolation=\"bilinear\")"
   ]
  },
  {
   "cell_type": "code",
   "execution_count": null,
   "metadata": {
    "slideshow": {
     "slide_type": "skip"
    }
   },
   "outputs": [],
   "source": [
    "fraction_mention = np.mean(topics[:,weights.argmax()] > 0)\n",
    "print(\"The most mentioned topics is mentioned in {:.1%} of documents.\".format(fraction_mention))\n",
    "total_weight = np.mean(topics[:,weights.argmax()])\n",
    "print(\"It represents {:.1%} of the total number of words.\".format(total_weight))"
   ]
  },
  {
   "cell_type": "markdown",
   "metadata": {
    "slideshow": {
     "slide_type": "-"
    }
   },
   "source": [
    "<img src=\"../images/tm_wikipedia.png\" alt=\"ml\" style=\"width: 400px;\"/>"
   ]
  },
  {
   "cell_type": "markdown",
   "metadata": {
    "slideshow": {
     "slide_type": "subslide"
    }
   },
   "source": [
    "## LDA in Deep Learning: lda2vec\n",
    "* lda2vec is an extension of word2vec and LDA that jointly learns word, document, and topic vectors.\n",
    "* builds on top of the skip-gram model of word2vec to generate word vectors.\n",
    "    - Neural net that learns a word embedding by trying to use the input word to predict surrounding context words\n",
    "    - See http://mccormickml.com/2016/04/19/word2vec-tutorial-the-skip-gram-model/\n",
    "* instead of using the word vector directly to predict context words, we leverage a context vector to make the predictions. \n",
    "* this context vector is created as the sum of two other vectors: the word vector and the document vector.    "
   ]
  },
  {
   "cell_type": "markdown",
   "metadata": {
    "slideshow": {
     "slide_type": "subslide"
    }
   },
   "source": [
    "* The document vector is a weighted combination of two other components:\n",
    "    - the document weight vector, representing the “weights” of each topic in the document\n",
    "    - the topic matrix, representing each topic and its corresponding vector embedding\n",
    "* Together, the document vector and the word vector generate “context” vectors for each word in the document. \n",
    "* lda2vec not only learns word embeddings (and context vector embeddings) for words,\n",
    "* it simultaneously learns topic representations and document representations"
   ]
  },
  {
   "cell_type": "markdown",
   "metadata": {
    "slideshow": {
     "slide_type": "subslide"
    }
   },
   "source": [
    "<img src=\"../images/tm_lda2vec.png\" alt=\"ml\" style=\"width: 400px;\"/>"
   ]
  },
  {
   "cell_type": "markdown",
   "metadata": {
    "slideshow": {
     "slide_type": "subslide"
    }
   },
   "source": [
    "<img src=\"../images/tm_lda2vec2.png\" alt=\"ml\" style=\"width: 400px;\"/>"
   ]
  },
  {
   "cell_type": "markdown",
   "metadata": {},
   "source": [
    "## Further reading on lda2vec\n",
    "* [blog post](https://multithreaded.stitchfix.com/blog/2016/05/27/lda2vec/#topic=38&lambda=1&term=)\n",
    "* [Code](https://github.com/cemoody/lda2vec)\n",
    "* [Example](http://nbviewer.jupyter.org/github/cemoody/lda2vec/blob/master/examples/twenty_newsgroups/lda2vec/lda2vec.ipynb)\n",
    "              "
   ]
  }
 ],
 "metadata": {
  "anaconda-cloud": {},
  "celltoolbar": "Slideshow",
  "kernelspec": {
   "display_name": "Python 3",
   "language": "python",
   "name": "python3"
  },
  "language_info": {
   "codemirror_mode": {
    "name": "ipython",
    "version": 3
   },
   "file_extension": ".py",
   "mimetype": "text/x-python",
   "name": "python",
   "nbconvert_exporter": "python",
   "pygments_lexer": "ipython3",
   "version": "3.7.3"
  }
 },
 "nbformat": 4,
 "nbformat_minor": 2
}
